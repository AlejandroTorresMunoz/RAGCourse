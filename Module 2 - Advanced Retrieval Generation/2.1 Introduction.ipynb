{
 "cells": [
  {
   "cell_type": "markdown",
   "metadata": {},
   "source": [
    "# Introduction"
   ]
  },
  {
   "cell_type": "markdown",
   "metadata": {},
   "source": [
    "In this notebook, we will be presented four topics that will be explored in deepth during this module. During this part we will learn how to build, refine and deploy efficient RAG systems."
   ]
  },
  {
   "cell_type": "markdown",
   "metadata": {},
   "source": [
    "## Fine-tuning vs RAG"
   ]
  },
  {
   "cell_type": "markdown",
   "metadata": {},
   "source": [
    "In that notebook we will explore various optimization techniques for LLM models, like prompt-engineering, fine-tuning and RAG.\n",
    "\n",
    "We will implement ActiveLoop's Deep Memory to examinate the limitations of RAG systems. "
   ]
  },
  {
   "cell_type": "markdown",
   "metadata": {},
   "source": [
    "## Mastering Advanced RAG Techniques with LlamaIndex"
   ]
  },
  {
   "cell_type": "markdown",
   "metadata": {},
   "source": [
    "In that notebook we will learn advanced RAG techniques. We will explore the concepts of query construction, query expansion, and query transformation to refine the information retrieval process. We will also see other techniques, like recursive retrieval.\n",
    "\n",
    "The lesson includes hands-on examples of setting up a query engine from indexing to querying, as well as creating custom retrievers and utilizing reranking. The conclusion underlines the importance of these techniques and strategies in developing more efficient RAG-based applications"
   ]
  },
  {
   "cell_type": "markdown",
   "metadata": {},
   "source": [
    "## Production-Ready RAG Solutions with LlamaIndex"
   ]
  },
  {
   "cell_type": "markdown",
   "metadata": {},
   "source": [
    "We will learn about the challenges and best pratices for RAG systems in production. These chapter includes dealing with dynamic data managment, diverse representation in latent space and model selections for system efficiency. The lesson emphasizes the importance of fine-tuning embedding models and LLM models to improve metrics."
   ]
  }
 ],
 "metadata": {
  "language_info": {
   "name": "python"
  }
 },
 "nbformat": 4,
 "nbformat_minor": 2
}
